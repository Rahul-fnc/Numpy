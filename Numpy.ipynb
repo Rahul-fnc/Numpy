{
 "cells": [
  {
   "cell_type": "code",
   "execution_count": 1,
   "id": "a2b3cbb0",
   "metadata": {},
   "outputs": [],
   "source": [
    "import numpy as np"
   ]
  },
  {
   "cell_type": "code",
   "execution_count": 2,
   "id": "f9df6733",
   "metadata": {},
   "outputs": [
    {
     "data": {
      "text/plain": [
       "array([10, 20, 30])"
      ]
     },
     "execution_count": 2,
     "metadata": {},
     "output_type": "execute_result"
    }
   ],
   "source": [
    "np.array ([10,20,30])"
   ]
  },
  {
   "cell_type": "code",
   "execution_count": 3,
   "id": "4a86bdb9",
   "metadata": {},
   "outputs": [
    {
     "name": "stdout",
     "output_type": "stream",
     "text": [
      "[10 20 30]\n"
     ]
    }
   ],
   "source": [
    "m = np.array ([10,20,30])\n",
    "print (m)"
   ]
  },
  {
   "cell_type": "code",
   "execution_count": 4,
   "id": "4a4ae952",
   "metadata": {},
   "outputs": [
    {
     "name": "stdout",
     "output_type": "stream",
     "text": [
      "<class 'numpy.ndarray'>\n"
     ]
    }
   ],
   "source": [
    "print (type (m))"
   ]
  },
  {
   "cell_type": "code",
   "execution_count": 6,
   "id": "c44bea70",
   "metadata": {},
   "outputs": [
    {
     "name": "stdout",
     "output_type": "stream",
     "text": [
      "[]\n"
     ]
    }
   ],
   "source": [
    "m = np.array ([])\n",
    "print (m)"
   ]
  },
  {
   "cell_type": "code",
   "execution_count": 7,
   "id": "9690c712",
   "metadata": {},
   "outputs": [
    {
     "name": "stdout",
     "output_type": "stream",
     "text": [
      "[10 20 30]\n"
     ]
    }
   ],
   "source": [
    "m = np.array ([10,20,30])\n",
    "print (m)"
   ]
  },
  {
   "cell_type": "code",
   "execution_count": 8,
   "id": "6e68175c",
   "metadata": {},
   "outputs": [
    {
     "data": {
      "text/plain": [
       "1"
      ]
     },
     "execution_count": 8,
     "metadata": {},
     "output_type": "execute_result"
    }
   ],
   "source": [
    "m.ndim"
   ]
  },
  {
   "cell_type": "code",
   "execution_count": 9,
   "id": "5ca6e174",
   "metadata": {},
   "outputs": [
    {
     "data": {
      "text/plain": [
       "(3,)"
      ]
     },
     "execution_count": 9,
     "metadata": {},
     "output_type": "execute_result"
    }
   ],
   "source": [
    "m.shape"
   ]
  },
  {
   "cell_type": "code",
   "execution_count": 10,
   "id": "86095aba",
   "metadata": {},
   "outputs": [
    {
     "name": "stdout",
     "output_type": "stream",
     "text": [
      "[[10 20 30]\n",
      " [40 41 42]]\n"
     ]
    }
   ],
   "source": [
    "m = np.array ([[10,20,30], [40,41,42]])\n",
    "print (m)"
   ]
  },
  {
   "cell_type": "code",
   "execution_count": 11,
   "id": "66ba71d9",
   "metadata": {},
   "outputs": [
    {
     "data": {
      "text/plain": [
       "2"
      ]
     },
     "execution_count": 11,
     "metadata": {},
     "output_type": "execute_result"
    }
   ],
   "source": [
    "m.ndim"
   ]
  },
  {
   "cell_type": "code",
   "execution_count": 12,
   "id": "68f0be78",
   "metadata": {},
   "outputs": [
    {
     "data": {
      "text/plain": [
       "(2, 3)"
      ]
     },
     "execution_count": 12,
     "metadata": {},
     "output_type": "execute_result"
    }
   ],
   "source": [
    "m.shape"
   ]
  },
  {
   "cell_type": "code",
   "execution_count": 13,
   "id": "4088b039",
   "metadata": {},
   "outputs": [
    {
     "name": "stdout",
     "output_type": "stream",
     "text": [
      "[['10' 'Sat' '30']\n",
      " ['40' '41' '42']]\n"
     ]
    }
   ],
   "source": [
    "m = np.array ([[10,'Sat',30], [40,41,42]])\n",
    "print (m)"
   ]
  },
  {
   "cell_type": "code",
   "execution_count": 14,
   "id": "ebfba6d2",
   "metadata": {},
   "outputs": [
    {
     "name": "stdout",
     "output_type": "stream",
     "text": [
      "[[10, 'Sat', 30], [40, 41, 42]]\n"
     ]
    }
   ],
   "source": [
    "m = [[10,'Sat',30], [40,41,42]]\n",
    "print (m)"
   ]
  },
  {
   "cell_type": "code",
   "execution_count": 15,
   "id": "322173b8",
   "metadata": {},
   "outputs": [
    {
     "name": "stdout",
     "output_type": "stream",
     "text": [
      "[list([10, 20, 30]) list([40, 42])]\n"
     ]
    },
    {
     "name": "stderr",
     "output_type": "stream",
     "text": [
      "C:\\Users\\noble\\AppData\\Local\\Temp\\ipykernel_9936\\1061998992.py:1: VisibleDeprecationWarning: Creating an ndarray from ragged nested sequences (which is a list-or-tuple of lists-or-tuples-or ndarrays with different lengths or shapes) is deprecated. If you meant to do this, you must specify 'dtype=object' when creating the ndarray.\n",
      "  m = np.array ([[10,20,30], [40,42]])\n"
     ]
    }
   ],
   "source": [
    "m = np.array ([[10,20,30], [40,42]])\n",
    "print (m)"
   ]
  },
  {
   "cell_type": "code",
   "execution_count": 16,
   "id": "35e8d59e",
   "metadata": {},
   "outputs": [
    {
     "name": "stdout",
     "output_type": "stream",
     "text": [
      "[[10 20 30]\n",
      " [40  0 42]]\n"
     ]
    }
   ],
   "source": [
    "m = np.array ([[10,20,30], [40,0, 42]])\n",
    "print (m)"
   ]
  },
  {
   "cell_type": "code",
   "execution_count": 17,
   "id": "dc6ea8b5",
   "metadata": {},
   "outputs": [
    {
     "name": "stdout",
     "output_type": "stream",
     "text": [
      "[[10. 20. 30.]\n",
      " [40. nan 42.]]\n"
     ]
    }
   ],
   "source": [
    "m = np.array ([[10,20,30], [40,np.NaN, 42]])\n",
    "print (m)"
   ]
  },
  {
   "cell_type": "code",
   "execution_count": 18,
   "id": "150b066b",
   "metadata": {},
   "outputs": [
    {
     "name": "stdout",
     "output_type": "stream",
     "text": [
      "[10 12 14 16 20]\n"
     ]
    }
   ],
   "source": [
    "import numpy as np\n",
    "array1 = np.array ([10,12,14,16,20])\n",
    "print (array1)\n"
   ]
  },
  {
   "cell_type": "code",
   "execution_count": 19,
   "id": "8fd07afb",
   "metadata": {},
   "outputs": [
    {
     "name": "stdout",
     "output_type": "stream",
     "text": [
      "[[10, 20, 30], [50, 60, 70]]\n"
     ]
    }
   ],
   "source": [
    "list1 = [[10,20,30],[50,60,70]]\n",
    "print (list1)\n"
   ]
  },
  {
   "cell_type": "code",
   "execution_count": 20,
   "id": "9f6ae992",
   "metadata": {},
   "outputs": [
    {
     "name": "stdout",
     "output_type": "stream",
     "text": [
      "[[10 20 30]\n",
      " [50 60 70]]\n"
     ]
    }
   ],
   "source": [
    "a= np.array (list1)\n",
    "print (a)\n"
   ]
  },
  {
   "cell_type": "code",
   "execution_count": 21,
   "id": "674bdafc",
   "metadata": {},
   "outputs": [
    {
     "data": {
      "text/plain": [
       "array([[10., 20., 30., 40.],\n",
       "       [50., 60., 70., nan]])"
      ]
     },
     "execution_count": 21,
     "metadata": {},
     "output_type": "execute_result"
    }
   ],
   "source": [
    "ar1 = np.array([[10,20,30,40],[50,60,70, np.nan]])\n",
    "ar1\n"
   ]
  },
  {
   "cell_type": "code",
   "execution_count": 23,
   "id": "dffdeb81",
   "metadata": {},
   "outputs": [
    {
     "name": "stdout",
     "output_type": "stream",
     "text": [
      "[[10, 20, 30], [50, 60, 70, 80]]\n"
     ]
    }
   ],
   "source": [
    "list1 = [[10,20,30],[50,60,70,80]]\n",
    "print (list1)"
   ]
  },
  {
   "cell_type": "code",
   "execution_count": 24,
   "id": "d4cd8a5c",
   "metadata": {},
   "outputs": [
    {
     "name": "stdout",
     "output_type": "stream",
     "text": [
      "[list([10, 20, 30]) list([50, 60, 70, 80])]\n",
      "<class 'numpy.ndarray'>\n"
     ]
    },
    {
     "name": "stderr",
     "output_type": "stream",
     "text": [
      "C:\\Users\\noble\\AppData\\Local\\Temp\\ipykernel_9936\\16576860.py:1: VisibleDeprecationWarning: Creating an ndarray from ragged nested sequences (which is a list-or-tuple of lists-or-tuples-or ndarrays with different lengths or shapes) is deprecated. If you meant to do this, you must specify 'dtype=object' when creating the ndarray.\n",
      "  a= np.array ([[10,20,30],[50,60,70,80]])\n"
     ]
    }
   ],
   "source": [
    "\n",
    "a= np.array ([[10,20,30],[50,60,70,80]])\n",
    "print (a)\n",
    "print (type(a))\n"
   ]
  },
  {
   "cell_type": "code",
   "execution_count": 26,
   "id": "7baec171",
   "metadata": {},
   "outputs": [
    {
     "name": "stdout",
     "output_type": "stream",
     "text": [
      "[[10 20 30]\n",
      " [50 60 80]]\n",
      "<class 'numpy.ndarray'>\n"
     ]
    }
   ],
   "source": [
    "\n",
    "a= np.array ([[10,20,30],[50,60,80]])\n",
    "print (a)\n",
    "print (type(a))"
   ]
  },
  {
   "cell_type": "code",
   "execution_count": 27,
   "id": "d0de4233",
   "metadata": {},
   "outputs": [
    {
     "name": "stdout",
     "output_type": "stream",
     "text": [
      "<class 'numpy.ndarray'>\n",
      "<class 'list'>\n",
      "[10, 20, 30, 40, 50, 'X']\n",
      "['10' '20' '30' '40' '50' 'X']\n"
     ]
    }
   ],
   "source": [
    "list1 = [10,20,30,40,50,'X']\n",
    "import numpy as np\n",
    "array1 = np.array (list1)\n",
    "print (type(array1))\n",
    "print (type(list1))\n",
    "print (list1)\n",
    "print (array1)\n"
   ]
  },
  {
   "cell_type": "code",
   "execution_count": 28,
   "id": "9bb061b7",
   "metadata": {},
   "outputs": [
    {
     "data": {
      "text/plain": [
       "array(['10', '20', '30', '40', '50', 'X'], dtype='<U11')"
      ]
     },
     "execution_count": 28,
     "metadata": {},
     "output_type": "execute_result"
    }
   ],
   "source": [
    "array1"
   ]
  },
  {
   "cell_type": "code",
   "execution_count": 30,
   "id": "5c242d89",
   "metadata": {},
   "outputs": [
    {
     "data": {
      "text/plain": [
       "[10, 20, 30]"
      ]
     },
     "execution_count": 30,
     "metadata": {},
     "output_type": "execute_result"
    }
   ],
   "source": [
    "list1 = [10,20,30,40,50,60,70,80]\n",
    "list2 = list1 [:3]\n",
    "list2"
   ]
  },
  {
   "cell_type": "code",
   "execution_count": 33,
   "id": "e21adced",
   "metadata": {},
   "outputs": [
    {
     "name": "stdout",
     "output_type": "stream",
     "text": [
      "[10, 200, 30]\n"
     ]
    }
   ],
   "source": [
    "list2[1] = 200\n",
    "print (list2)"
   ]
  },
  {
   "cell_type": "code",
   "execution_count": 34,
   "id": "d5032feb",
   "metadata": {},
   "outputs": [
    {
     "name": "stdout",
     "output_type": "stream",
     "text": [
      "[10, 20, 30, 40, 50, 60, 70, 80]\n"
     ]
    }
   ],
   "source": [
    "print (list1)"
   ]
  },
  {
   "cell_type": "code",
   "execution_count": 35,
   "id": "d77215fb",
   "metadata": {},
   "outputs": [
    {
     "name": "stdout",
     "output_type": "stream",
     "text": [
      "[10 20 30 40 50 60 70 80]\n",
      "[10 20 30]\n"
     ]
    }
   ],
   "source": [
    "arr1= np.array ([10,20,30,40,50,60,70,80])\n",
    "arr2 = arr1[:3]\n",
    "print (arr1)\n",
    "print (arr2)"
   ]
  },
  {
   "cell_type": "code",
   "execution_count": 37,
   "id": "a6065004",
   "metadata": {},
   "outputs": [
    {
     "name": "stdout",
     "output_type": "stream",
     "text": [
      "[ 10 222  30  40  50  60  70  80]\n",
      "[ 10 222  30]\n"
     ]
    }
   ],
   "source": [
    "arr2[1]= 222\n",
    "print (arr1)\n",
    "print (arr2)"
   ]
  },
  {
   "cell_type": "code",
   "execution_count": 39,
   "id": "83c82d50",
   "metadata": {},
   "outputs": [
    {
     "name": "stdout",
     "output_type": "stream",
     "text": [
      "1925508414128\n",
      "1925508412784\n"
     ]
    }
   ],
   "source": [
    "print (id (arr1))\n",
    "print (id (arr2))"
   ]
  },
  {
   "cell_type": "code",
   "execution_count": 40,
   "id": "df1a1b7c",
   "metadata": {},
   "outputs": [
    {
     "name": "stdout",
     "output_type": "stream",
     "text": [
      "[10 20 30 40 50 60 70 80]\n",
      "[10 20 30]\n"
     ]
    }
   ],
   "source": [
    "arr1= np.array ([10,20,30,40,50,60,70,80])\n",
    "arr2 = arr1[:3].copy()\n",
    "print (arr1)\n",
    "print (arr2)"
   ]
  },
  {
   "cell_type": "code",
   "execution_count": 41,
   "id": "8e1024cb",
   "metadata": {},
   "outputs": [
    {
     "name": "stdout",
     "output_type": "stream",
     "text": [
      "[10 20 30 40 50 60 70 80]\n",
      "[ 10 222  30]\n"
     ]
    }
   ],
   "source": [
    "arr2[1]= 222\n",
    "print (arr1)\n",
    "print (arr2)"
   ]
  },
  {
   "cell_type": "code",
   "execution_count": 43,
   "id": "6c016277",
   "metadata": {},
   "outputs": [
    {
     "data": {
      "text/plain": [
       "array([0, 1, 2, 3, 4])"
      ]
     },
     "execution_count": 43,
     "metadata": {},
     "output_type": "execute_result"
    }
   ],
   "source": [
    "a = np.arange (5)\n",
    "a"
   ]
  },
  {
   "cell_type": "code",
   "execution_count": 44,
   "id": "b8f5fd29",
   "metadata": {},
   "outputs": [
    {
     "data": {
      "text/plain": [
       "array([5, 6, 7, 8, 9])"
      ]
     },
     "execution_count": 44,
     "metadata": {},
     "output_type": "execute_result"
    }
   ],
   "source": [
    "a = np.arange (5,10)\n",
    "a"
   ]
  },
  {
   "cell_type": "code",
   "execution_count": 45,
   "id": "0c8f1792",
   "metadata": {},
   "outputs": [
    {
     "data": {
      "text/plain": [
       "array([5, 7, 9])"
      ]
     },
     "execution_count": 45,
     "metadata": {},
     "output_type": "execute_result"
    }
   ],
   "source": [
    "a = np.arange (5,10,2)\n",
    "a"
   ]
  },
  {
   "cell_type": "code",
   "execution_count": 46,
   "id": "a102e838",
   "metadata": {},
   "outputs": [
    {
     "data": {
      "text/plain": [
       "array([10, 20, 30, 40, 50, 60, 70, 80, 90])"
      ]
     },
     "execution_count": 46,
     "metadata": {},
     "output_type": "execute_result"
    }
   ],
   "source": [
    "a = np.arange (10,100,10)\n",
    "a"
   ]
  },
  {
   "cell_type": "code",
   "execution_count": 47,
   "id": "a9b2edd2",
   "metadata": {},
   "outputs": [
    {
     "data": {
      "text/plain": [
       "array([0, 1, 2, 3, 4, 5, 6, 7, 8])"
      ]
     },
     "execution_count": 47,
     "metadata": {},
     "output_type": "execute_result"
    }
   ],
   "source": [
    "a = np.arange(9)\n",
    "a"
   ]
  },
  {
   "cell_type": "code",
   "execution_count": 48,
   "id": "c12477a2",
   "metadata": {},
   "outputs": [
    {
     "name": "stdout",
     "output_type": "stream",
     "text": [
      "[[0 1 2]\n",
      " [3 4 5]\n",
      " [6 7 8]]\n"
     ]
    }
   ],
   "source": [
    "a = a.reshape((3,3))\n",
    "print (a)\n"
   ]
  },
  {
   "cell_type": "code",
   "execution_count": 49,
   "id": "9704c654",
   "metadata": {},
   "outputs": [
    {
     "ename": "ValueError",
     "evalue": "cannot reshape array of size 9 into shape (4,2)",
     "output_type": "error",
     "traceback": [
      "\u001b[1;31m---------------------------------------------------------------------------\u001b[0m",
      "\u001b[1;31mValueError\u001b[0m                                Traceback (most recent call last)",
      "Cell \u001b[1;32mIn [49], line 1\u001b[0m\n\u001b[1;32m----> 1\u001b[0m a \u001b[38;5;241m=\u001b[39m \u001b[43ma\u001b[49m\u001b[38;5;241;43m.\u001b[39;49m\u001b[43mreshape\u001b[49m\u001b[43m(\u001b[49m\u001b[43m(\u001b[49m\u001b[38;5;241;43m4\u001b[39;49m\u001b[43m,\u001b[49m\u001b[38;5;241;43m2\u001b[39;49m\u001b[43m)\u001b[49m\u001b[43m)\u001b[49m\n\u001b[0;32m      2\u001b[0m \u001b[38;5;28mprint\u001b[39m (a)\n",
      "\u001b[1;31mValueError\u001b[0m: cannot reshape array of size 9 into shape (4,2)"
     ]
    }
   ],
   "source": [
    "a = a.reshape((4,2))\n",
    "print (a)\n"
   ]
  },
  {
   "cell_type": "code",
   "execution_count": 50,
   "id": "af124e57",
   "metadata": {},
   "outputs": [
    {
     "data": {
      "text/plain": [
       "array([ 0,  1,  2,  3,  4,  5,  6,  7,  8,  9, 10, 11, 12, 13, 14, 15, 16,\n",
       "       17, 18, 19, 20, 21, 22, 23, 24, 25, 26, 27, 28, 29])"
      ]
     },
     "execution_count": 50,
     "metadata": {},
     "output_type": "execute_result"
    }
   ],
   "source": [
    "a = np.arange(30)\n",
    "a"
   ]
  },
  {
   "cell_type": "code",
   "execution_count": 52,
   "id": "f0841f39",
   "metadata": {},
   "outputs": [
    {
     "name": "stdout",
     "output_type": "stream",
     "text": [
      "[[ 0  1  2]\n",
      " [ 3  4  5]\n",
      " [ 6  7  8]\n",
      " [ 9 10 11]\n",
      " [12 13 14]\n",
      " [15 16 17]\n",
      " [18 19 20]\n",
      " [21 22 23]\n",
      " [24 25 26]\n",
      " [27 28 29]]\n"
     ]
    }
   ],
   "source": [
    "print (a.reshape (10,3))"
   ]
  },
  {
   "cell_type": "code",
   "execution_count": 53,
   "id": "8fd9eacc",
   "metadata": {},
   "outputs": [
    {
     "name": "stdout",
     "output_type": "stream",
     "text": [
      "[[ 0  1  2  3  4]\n",
      " [ 5  6  7  8  9]\n",
      " [10 11 12 13 14]\n",
      " [15 16 17 18 19]\n",
      " [20 21 22 23 24]\n",
      " [25 26 27 28 29]]\n"
     ]
    }
   ],
   "source": [
    "print (a.reshape (6,5))"
   ]
  },
  {
   "cell_type": "code",
   "execution_count": 54,
   "id": "a0f26a3d",
   "metadata": {},
   "outputs": [
    {
     "name": "stdout",
     "output_type": "stream",
     "text": [
      "[[ 0  1  2  3  4  5  6  7  8  9 10 11 12 13 14]\n",
      " [15 16 17 18 19 20 21 22 23 24 25 26 27 28 29]]\n"
     ]
    }
   ],
   "source": [
    "print (a.reshape (2,15))"
   ]
  },
  {
   "cell_type": "code",
   "execution_count": 55,
   "id": "9c5567d6",
   "metadata": {},
   "outputs": [
    {
     "name": "stdout",
     "output_type": "stream",
     "text": [
      "[[[ 0  1  2]\n",
      "  [ 3  4  5]\n",
      "  [ 6  7  8]\n",
      "  [ 9 10 11]\n",
      "  [12 13 14]]\n",
      "\n",
      " [[15 16 17]\n",
      "  [18 19 20]\n",
      "  [21 22 23]\n",
      "  [24 25 26]\n",
      "  [27 28 29]]]\n"
     ]
    }
   ],
   "source": [
    "print (a.reshape (2,5,3))"
   ]
  },
  {
   "cell_type": "code",
   "execution_count": 56,
   "id": "b1b35aa6",
   "metadata": {},
   "outputs": [
    {
     "data": {
      "text/plain": [
       "array([[[ 0,  1,  2],\n",
       "        [ 3,  4,  5],\n",
       "        [ 6,  7,  8],\n",
       "        [ 9, 10, 11],\n",
       "        [12, 13, 14]],\n",
       "\n",
       "       [[15, 16, 17],\n",
       "        [18, 19, 20],\n",
       "        [21, 22, 23],\n",
       "        [24, 25, 26],\n",
       "        [27, 28, 29]]])"
      ]
     },
     "execution_count": 56,
     "metadata": {},
     "output_type": "execute_result"
    }
   ],
   "source": [
    "m = a.reshape (2,5,3)\n",
    "m"
   ]
  },
  {
   "cell_type": "code",
   "execution_count": 57,
   "id": "acab6886",
   "metadata": {},
   "outputs": [
    {
     "data": {
      "text/plain": [
       "(2, 5, 3)"
      ]
     },
     "execution_count": 57,
     "metadata": {},
     "output_type": "execute_result"
    }
   ],
   "source": [
    "m.shape"
   ]
  },
  {
   "cell_type": "code",
   "execution_count": 58,
   "id": "0f707806",
   "metadata": {},
   "outputs": [
    {
     "data": {
      "text/plain": [
       "3"
      ]
     },
     "execution_count": 58,
     "metadata": {},
     "output_type": "execute_result"
    }
   ],
   "source": [
    "m.ndim"
   ]
  },
  {
   "cell_type": "code",
   "execution_count": 60,
   "id": "999f2a64",
   "metadata": {},
   "outputs": [
    {
     "data": {
      "text/plain": [
       "array([[ 0,  1,  2,  3,  4],\n",
       "       [ 5,  6,  7,  8,  9],\n",
       "       [10, 11, 12, 13, 14],\n",
       "       [15, 16, 17, 18, 19],\n",
       "       [20, 21, 22, 23, 24],\n",
       "       [25, 26, 27, 28, 29]])"
      ]
     },
     "execution_count": 60,
     "metadata": {},
     "output_type": "execute_result"
    }
   ],
   "source": [
    " m.reshape (6,5)\n"
   ]
  },
  {
   "cell_type": "code",
   "execution_count": 61,
   "id": "0c843e71",
   "metadata": {},
   "outputs": [
    {
     "data": {
      "text/plain": [
       "array([[0., 0., 0., 0., 0.],\n",
       "       [0., 0., 0., 0., 0.],\n",
       "       [0., 0., 0., 0., 0.],\n",
       "       [0., 0., 0., 0., 0.],\n",
       "       [0., 0., 0., 0., 0.]])"
      ]
     },
     "execution_count": 61,
     "metadata": {},
     "output_type": "execute_result"
    }
   ],
   "source": [
    "\n",
    "b = np.zeros((5,5))\n",
    "b"
   ]
  },
  {
   "cell_type": "code",
   "execution_count": 62,
   "id": "8e146143",
   "metadata": {},
   "outputs": [
    {
     "data": {
      "text/plain": [
       "array([[0., 0., 0.],\n",
       "       [0., 0., 0.],\n",
       "       [0., 0., 0.],\n",
       "       [0., 0., 0.]])"
      ]
     },
     "execution_count": 62,
     "metadata": {},
     "output_type": "execute_result"
    }
   ],
   "source": [
    "\n",
    "b = np.zeros((4,3))\n",
    "b"
   ]
  },
  {
   "cell_type": "code",
   "execution_count": 63,
   "id": "1ee0c051",
   "metadata": {},
   "outputs": [
    {
     "data": {
      "text/plain": [
       "array([[1., 1., 1.],\n",
       "       [1., 1., 1.],\n",
       "       [1., 1., 1.],\n",
       "       [1., 1., 1.]])"
      ]
     },
     "execution_count": 63,
     "metadata": {},
     "output_type": "execute_result"
    }
   ],
   "source": [
    "\n",
    "b = np.ones((4,3))\n",
    "b"
   ]
  },
  {
   "cell_type": "code",
   "execution_count": 64,
   "id": "bab24c55",
   "metadata": {},
   "outputs": [
    {
     "data": {
      "text/plain": [
       "array([[5., 5., 5.],\n",
       "       [5., 5., 5.],\n",
       "       [5., 5., 5.],\n",
       "       [5., 5., 5.]])"
      ]
     },
     "execution_count": 64,
     "metadata": {},
     "output_type": "execute_result"
    }
   ],
   "source": [
    "b*5"
   ]
  },
  {
   "cell_type": "code",
   "execution_count": 65,
   "id": "be60e2b2",
   "metadata": {},
   "outputs": [
    {
     "name": "stdout",
     "output_type": "stream",
     "text": [
      "[ 0  1  2  3  4  5  6  7  8  9 10 11 12 13 14 15 16 17 18 19 20 21 22 23\n",
      " 24 25 26 27 28 29]\n",
      "[[ 0  6 12 18 24]\n",
      " [ 1  7 13 19 25]\n",
      " [ 2  8 14 20 26]\n",
      " [ 3  9 15 21 27]\n",
      " [ 4 10 16 22 28]\n",
      " [ 5 11 17 23 29]]\n"
     ]
    }
   ],
   "source": [
    "mat1 = np.arange (0,30)\n",
    "mat2 =np.reshape (mat1,(6,5),'F')\n",
    "print (mat1)\n",
    "print (mat2)\n"
   ]
  },
  {
   "cell_type": "code",
   "execution_count": 66,
   "id": "9a058793",
   "metadata": {},
   "outputs": [
    {
     "name": "stdout",
     "output_type": "stream",
     "text": [
      "[[ 0  6 12 18 24]\n",
      " [ 1  7 13 19 25]\n",
      " [ 2  8 14 20 26]\n",
      " [ 3  9 15 21 27]\n",
      " [ 4 10 16 22 28]\n",
      " [ 5 11 17 23 29]]\n"
     ]
    }
   ],
   "source": [
    "mat2 =np.reshape (mat1,(6,5),'F')\n",
    "print (mat2)"
   ]
  },
  {
   "cell_type": "code",
   "execution_count": 67,
   "id": "5a5aa489",
   "metadata": {},
   "outputs": [
    {
     "name": "stdout",
     "output_type": "stream",
     "text": [
      "[[ 0  1  2  3  4]\n",
      " [ 5  6  7  8  9]\n",
      " [10 11 12 13 14]\n",
      " [15 16 17 18 19]\n",
      " [20 21 22 23 24]\n",
      " [25 26 27 28 29]]\n"
     ]
    }
   ],
   "source": [
    "mat2 =np.reshape (mat1,(6,5))\n",
    "print (mat2)"
   ]
  },
  {
   "cell_type": "code",
   "execution_count": 69,
   "id": "1ed82885",
   "metadata": {},
   "outputs": [
    {
     "data": {
      "text/plain": [
       "array([[ 0,  5, 10, 15, 20, 25],\n",
       "       [ 1,  6, 11, 16, 21, 26],\n",
       "       [ 2,  7, 12, 17, 22, 27],\n",
       "       [ 3,  8, 13, 18, 23, 28],\n",
       "       [ 4,  9, 14, 19, 24, 29]])"
      ]
     },
     "execution_count": 69,
     "metadata": {},
     "output_type": "execute_result"
    }
   ],
   "source": [
    "mat2.T"
   ]
  },
  {
   "cell_type": "code",
   "execution_count": 70,
   "id": "057e2ccd",
   "metadata": {},
   "outputs": [
    {
     "name": "stdout",
     "output_type": "stream",
     "text": [
      "[[0 1 2]\n",
      " [3 4 5]\n",
      " [6 7 8]]\n"
     ]
    }
   ],
   "source": [
    "a = np.arange (9)\n",
    "a = a.reshape (3,3)\n",
    "print (a)"
   ]
  },
  {
   "cell_type": "code",
   "execution_count": 71,
   "id": "5fd628b0",
   "metadata": {},
   "outputs": [
    {
     "name": "stdout",
     "output_type": "stream",
     "text": [
      "[[ 2  3  4]\n",
      " [ 5  6  7]\n",
      " [ 8  9 10]]\n"
     ]
    }
   ],
   "source": [
    "b = np.arange (2,11)\n",
    "b = b.reshape (3,3)\n",
    "print (b)"
   ]
  },
  {
   "cell_type": "code",
   "execution_count": 72,
   "id": "8de79732",
   "metadata": {},
   "outputs": [
    {
     "data": {
      "text/plain": [
       "array([[ 2,  4,  6],\n",
       "       [ 8, 10, 12],\n",
       "       [14, 16, 18]])"
      ]
     },
     "execution_count": 72,
     "metadata": {},
     "output_type": "execute_result"
    }
   ],
   "source": [
    "a+b"
   ]
  },
  {
   "cell_type": "code",
   "execution_count": 73,
   "id": "a16ff82d",
   "metadata": {},
   "outputs": [
    {
     "data": {
      "text/plain": [
       "array([[2, 2, 2],\n",
       "       [2, 2, 2],\n",
       "       [2, 2, 2]])"
      ]
     },
     "execution_count": 73,
     "metadata": {},
     "output_type": "execute_result"
    }
   ],
   "source": [
    "b-a"
   ]
  },
  {
   "cell_type": "code",
   "execution_count": 74,
   "id": "b2cbb98e",
   "metadata": {},
   "outputs": [
    {
     "data": {
      "text/plain": [
       "array([[ 0,  3,  8],\n",
       "       [15, 24, 35],\n",
       "       [48, 63, 80]])"
      ]
     },
     "execution_count": 74,
     "metadata": {},
     "output_type": "execute_result"
    }
   ],
   "source": [
    "b*a"
   ]
  },
  {
   "cell_type": "code",
   "execution_count": 75,
   "id": "aeff343d",
   "metadata": {},
   "outputs": [
    {
     "name": "stderr",
     "output_type": "stream",
     "text": [
      "C:\\Users\\noble\\AppData\\Local\\Temp\\ipykernel_9936\\2243761560.py:1: RuntimeWarning: divide by zero encountered in true_divide\n",
      "  b/a\n"
     ]
    },
    {
     "data": {
      "text/plain": [
       "array([[       inf, 3.        , 2.        ],\n",
       "       [1.66666667, 1.5       , 1.4       ],\n",
       "       [1.33333333, 1.28571429, 1.25      ]])"
      ]
     },
     "execution_count": 75,
     "metadata": {},
     "output_type": "execute_result"
    }
   ],
   "source": [
    "b/a"
   ]
  },
  {
   "cell_type": "code",
   "execution_count": 76,
   "id": "4b52d3ab",
   "metadata": {},
   "outputs": [
    {
     "data": {
      "text/plain": [
       "array([[ 2,  3,  4],\n",
       "       [ 5,  6,  7],\n",
       "       [ 8,  9, 10]])"
      ]
     },
     "execution_count": 76,
     "metadata": {},
     "output_type": "execute_result"
    }
   ],
   "source": [
    "b"
   ]
  },
  {
   "cell_type": "code",
   "execution_count": 77,
   "id": "18305280",
   "metadata": {},
   "outputs": [
    {
     "data": {
      "text/plain": [
       "array([[0, 1, 2],\n",
       "       [3, 4, 5],\n",
       "       [6, 7, 8]])"
      ]
     },
     "execution_count": 77,
     "metadata": {},
     "output_type": "execute_result"
    }
   ],
   "source": [
    "a"
   ]
  },
  {
   "cell_type": "code",
   "execution_count": 78,
   "id": "26f1e5d6",
   "metadata": {},
   "outputs": [
    {
     "data": {
      "text/plain": [
       "array([[0, 1, 2],\n",
       "       [3, 4, 5],\n",
       "       [6, 7, 8]])"
      ]
     },
     "execution_count": 78,
     "metadata": {},
     "output_type": "execute_result"
    }
   ],
   "source": [
    "a %b"
   ]
  },
  {
   "cell_type": "code",
   "execution_count": 79,
   "id": "11ef8ec3",
   "metadata": {},
   "outputs": [
    {
     "data": {
      "text/plain": [
       "array([[0, 1, 2],\n",
       "       [3, 4, 5],\n",
       "       [6, 7, 8]])"
      ]
     },
     "execution_count": 79,
     "metadata": {},
     "output_type": "execute_result"
    }
   ],
   "source": [
    "a"
   ]
  },
  {
   "cell_type": "code",
   "execution_count": 80,
   "id": "f01af6ad",
   "metadata": {},
   "outputs": [
    {
     "data": {
      "text/plain": [
       "array([[ 2,  3,  4],\n",
       "       [ 5,  6,  7],\n",
       "       [ 8,  9, 10]])"
      ]
     },
     "execution_count": 80,
     "metadata": {},
     "output_type": "execute_result"
    }
   ],
   "source": [
    "b"
   ]
  },
  {
   "cell_type": "code",
   "execution_count": 81,
   "id": "491e10c4",
   "metadata": {},
   "outputs": [
    {
     "data": {
      "text/plain": [
       "array([[ 0,  3,  8],\n",
       "       [15, 24, 35],\n",
       "       [48, 63, 80]])"
      ]
     },
     "execution_count": 81,
     "metadata": {},
     "output_type": "execute_result"
    }
   ],
   "source": [
    "a*b"
   ]
  },
  {
   "cell_type": "code",
   "execution_count": 82,
   "id": "f0c8ca0a",
   "metadata": {},
   "outputs": [
    {
     "data": {
      "text/plain": [
       "array([[0, 1, 2],\n",
       "       [3, 4, 5],\n",
       "       [6, 7, 8]])"
      ]
     },
     "execution_count": 82,
     "metadata": {},
     "output_type": "execute_result"
    }
   ],
   "source": [
    "a"
   ]
  },
  {
   "cell_type": "code",
   "execution_count": 83,
   "id": "5568003c",
   "metadata": {},
   "outputs": [
    {
     "data": {
      "text/plain": [
       "array([[ 2,  3,  4],\n",
       "       [ 5,  6,  7],\n",
       "       [ 8,  9, 10]])"
      ]
     },
     "execution_count": 83,
     "metadata": {},
     "output_type": "execute_result"
    }
   ],
   "source": [
    "b"
   ]
  },
  {
   "cell_type": "code",
   "execution_count": 84,
   "id": "20a171c7",
   "metadata": {},
   "outputs": [
    {
     "data": {
      "text/plain": [
       "array([[ 21,  24,  27],\n",
       "       [ 66,  78,  90],\n",
       "       [111, 132, 153]])"
      ]
     },
     "execution_count": 84,
     "metadata": {},
     "output_type": "execute_result"
    }
   ],
   "source": [
    "a@b"
   ]
  },
  {
   "cell_type": "code",
   "execution_count": 87,
   "id": "adc4d24d",
   "metadata": {},
   "outputs": [
    {
     "data": {
      "text/plain": [
       "array([[ 0,  1,  2,  3,  4],\n",
       "       [ 5,  6,  7,  8,  9],\n",
       "       [10, 11, 12, 13, 14],\n",
       "       [15, 16, 17, 18, 19],\n",
       "       [20, 21, 22, 23, 24],\n",
       "       [25, 26, 27, 28, 29]])"
      ]
     },
     "execution_count": 87,
     "metadata": {},
     "output_type": "execute_result"
    }
   ],
   "source": [
    "mat2"
   ]
  },
  {
   "cell_type": "code",
   "execution_count": 88,
   "id": "94cac44c",
   "metadata": {},
   "outputs": [
    {
     "name": "stdout",
     "output_type": "stream",
     "text": [
      "[ 0  1  2  3  4  5  6  7  8  9 10 11 12 13 14 15 16 17 18 19 20 21 22 23\n",
      " 24 25 26 27 28 29]\n"
     ]
    }
   ],
   "source": [
    "print (mat2.ravel())"
   ]
  },
  {
   "cell_type": "code",
   "execution_count": 89,
   "id": "81273781",
   "metadata": {},
   "outputs": [
    {
     "name": "stdout",
     "output_type": "stream",
     "text": [
      "[[[ 0  1  2]\n",
      "  [ 3  4  5]\n",
      "  [ 6  7  8]\n",
      "  [ 9 10 11]\n",
      "  [12 13 14]]\n",
      "\n",
      " [[15 16 17]\n",
      "  [18 19 20]\n",
      "  [21 22 23]\n",
      "  [24 25 26]\n",
      "  [27 28 29]]]\n"
     ]
    }
   ],
   "source": [
    "a = np.arange(30)\n",
    "b = a.reshape(2,5,3)\n",
    "print (b)\n"
   ]
  },
  {
   "cell_type": "code",
   "execution_count": 90,
   "id": "eb16305d",
   "metadata": {},
   "outputs": [
    {
     "name": "stdout",
     "output_type": "stream",
     "text": [
      "[ 0  1  2  3  4  5  6  7  8  9 10 11 12 13 14 15 16 17 18 19 20 21 22 23\n",
      " 24 25 26 27 28 29]\n"
     ]
    }
   ],
   "source": [
    "print (b.ravel())"
   ]
  },
  {
   "cell_type": "code",
   "execution_count": 91,
   "id": "129c038d",
   "metadata": {},
   "outputs": [
    {
     "name": "stdout",
     "output_type": "stream",
     "text": [
      "[ 0.  3.  6.  9. 12. 15. 18. 21. 24. 27. 30.]\n"
     ]
    }
   ],
   "source": [
    "vector = np.linspace(0,30,11)\n",
    "print (vector)\n",
    "\n"
   ]
  },
  {
   "cell_type": "code",
   "execution_count": 92,
   "id": "0f9e07a4",
   "metadata": {},
   "outputs": [
    {
     "name": "stdout",
     "output_type": "stream",
     "text": [
      "[ 0.  5. 10. 15. 20.]\n"
     ]
    }
   ],
   "source": [
    "vector = np.linspace(0,20,5)\n",
    "print (vector)"
   ]
  },
  {
   "cell_type": "code",
   "execution_count": null,
   "id": "f4d35f17",
   "metadata": {},
   "outputs": [],
   "source": []
  },
  {
   "cell_type": "code",
   "execution_count": null,
   "id": "28917f1f",
   "metadata": {},
   "outputs": [],
   "source": []
  },
  {
   "cell_type": "code",
   "execution_count": null,
   "id": "e6456d85",
   "metadata": {},
   "outputs": [],
   "source": []
  },
  {
   "cell_type": "code",
   "execution_count": null,
   "id": "b6a7fe82",
   "metadata": {},
   "outputs": [],
   "source": []
  }
 ],
 "metadata": {
  "kernelspec": {
   "display_name": "Python 3 (ipykernel)",
   "language": "python",
   "name": "python3"
  },
  "language_info": {
   "codemirror_mode": {
    "name": "ipython",
    "version": 3
   },
   "file_extension": ".py",
   "mimetype": "text/x-python",
   "name": "python",
   "nbconvert_exporter": "python",
   "pygments_lexer": "ipython3",
   "version": "3.9.15"
  }
 },
 "nbformat": 4,
 "nbformat_minor": 5
}
